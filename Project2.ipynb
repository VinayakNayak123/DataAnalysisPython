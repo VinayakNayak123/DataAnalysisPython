{
 "cells": [
  {
   "cell_type": "markdown",
   "metadata": {},
   "source": [
    "#  Data Analysis process"
   ]
  },
  {
   "cell_type": "code",
   "execution_count": 2,
   "metadata": {
    "collapsed": false
   },
   "outputs": [
    {
     "data": {
      "text/html": [
       "<div>\n",
       "<table border=\"1\" class=\"dataframe\">\n",
       "  <thead>\n",
       "    <tr style=\"text-align: right;\">\n",
       "      <th></th>\n",
       "      <th>PassengerId</th>\n",
       "      <th>Survived</th>\n",
       "      <th>Pclass</th>\n",
       "      <th>Name</th>\n",
       "      <th>Sex</th>\n",
       "      <th>Age</th>\n",
       "      <th>SibSp</th>\n",
       "      <th>Parch</th>\n",
       "      <th>Ticket</th>\n",
       "      <th>Fare</th>\n",
       "      <th>Cabin</th>\n",
       "      <th>Embarked</th>\n",
       "    </tr>\n",
       "  </thead>\n",
       "  <tbody>\n",
       "    <tr>\n",
       "      <th>0</th>\n",
       "      <td>1</td>\n",
       "      <td>0</td>\n",
       "      <td>3</td>\n",
       "      <td>Braund, Mr. Owen Harris</td>\n",
       "      <td>male</td>\n",
       "      <td>22.0</td>\n",
       "      <td>1</td>\n",
       "      <td>0</td>\n",
       "      <td>A/5 21171</td>\n",
       "      <td>7.2500</td>\n",
       "      <td>NaN</td>\n",
       "      <td>S</td>\n",
       "    </tr>\n",
       "    <tr>\n",
       "      <th>1</th>\n",
       "      <td>2</td>\n",
       "      <td>1</td>\n",
       "      <td>1</td>\n",
       "      <td>Cumings, Mrs. John Bradley (Florence Briggs Th...</td>\n",
       "      <td>female</td>\n",
       "      <td>38.0</td>\n",
       "      <td>1</td>\n",
       "      <td>0</td>\n",
       "      <td>PC 17599</td>\n",
       "      <td>71.2833</td>\n",
       "      <td>C85</td>\n",
       "      <td>C</td>\n",
       "    </tr>\n",
       "    <tr>\n",
       "      <th>2</th>\n",
       "      <td>3</td>\n",
       "      <td>1</td>\n",
       "      <td>3</td>\n",
       "      <td>Heikkinen, Miss. Laina</td>\n",
       "      <td>female</td>\n",
       "      <td>26.0</td>\n",
       "      <td>0</td>\n",
       "      <td>0</td>\n",
       "      <td>STON/O2. 3101282</td>\n",
       "      <td>7.9250</td>\n",
       "      <td>NaN</td>\n",
       "      <td>S</td>\n",
       "    </tr>\n",
       "    <tr>\n",
       "      <th>3</th>\n",
       "      <td>4</td>\n",
       "      <td>1</td>\n",
       "      <td>1</td>\n",
       "      <td>Futrelle, Mrs. Jacques Heath (Lily May Peel)</td>\n",
       "      <td>female</td>\n",
       "      <td>35.0</td>\n",
       "      <td>1</td>\n",
       "      <td>0</td>\n",
       "      <td>113803</td>\n",
       "      <td>53.1000</td>\n",
       "      <td>C123</td>\n",
       "      <td>S</td>\n",
       "    </tr>\n",
       "    <tr>\n",
       "      <th>4</th>\n",
       "      <td>5</td>\n",
       "      <td>0</td>\n",
       "      <td>3</td>\n",
       "      <td>Allen, Mr. William Henry</td>\n",
       "      <td>male</td>\n",
       "      <td>35.0</td>\n",
       "      <td>0</td>\n",
       "      <td>0</td>\n",
       "      <td>373450</td>\n",
       "      <td>8.0500</td>\n",
       "      <td>NaN</td>\n",
       "      <td>S</td>\n",
       "    </tr>\n",
       "  </tbody>\n",
       "</table>\n",
       "</div>"
      ],
      "text/plain": [
       "   PassengerId  Survived  Pclass  \\\n",
       "0            1         0       3   \n",
       "1            2         1       1   \n",
       "2            3         1       3   \n",
       "3            4         1       1   \n",
       "4            5         0       3   \n",
       "\n",
       "                                                Name     Sex   Age  SibSp  \\\n",
       "0                            Braund, Mr. Owen Harris    male  22.0      1   \n",
       "1  Cumings, Mrs. John Bradley (Florence Briggs Th...  female  38.0      1   \n",
       "2                             Heikkinen, Miss. Laina  female  26.0      0   \n",
       "3       Futrelle, Mrs. Jacques Heath (Lily May Peel)  female  35.0      1   \n",
       "4                           Allen, Mr. William Henry    male  35.0      0   \n",
       "\n",
       "   Parch            Ticket     Fare Cabin Embarked  \n",
       "0      0         A/5 21171   7.2500   NaN        S  \n",
       "1      0          PC 17599  71.2833   C85        C  \n",
       "2      0  STON/O2. 3101282   7.9250   NaN        S  \n",
       "3      0            113803  53.1000  C123        S  \n",
       "4      0            373450   8.0500   NaN        S  "
      ]
     },
     "execution_count": 2,
     "metadata": {},
     "output_type": "execute_result"
    }
   ],
   "source": [
    "from pandas import DataFrame, read_csv\n",
    "\n",
    "\n",
    "import matplotlib.pyplot as plt\n",
    "import pandas as pd \n",
    "import sys #only needed to determine Python version number\n",
    "import matplotlib #only needed to determine Matplotlib version number\n",
    "import seaborn as sns\n",
    "import numpy as np\n",
    "# Enable inline plotting\n",
    "%matplotlib inline\n",
    "Location = r'C:\\Users\\vnayak\\Documents\\vnayak_data_bkp\\Udacity\\DataAnalyst_Nano\\Intro_Data_Analysis\\titanic_data.csv'\n",
    "df = pd.read_csv(Location)\n",
    "df.head()\n"
   ]
  },
  {
   "cell_type": "markdown",
   "metadata": {},
   "source": [
    "In the code below we will be removing unwanted columns from the data frame."
   ]
  },
  {
   "cell_type": "code",
   "execution_count": 3,
   "metadata": {
    "collapsed": false
   },
   "outputs": [
    {
     "data": {
      "text/html": [
       "<div>\n",
       "<table border=\"1\" class=\"dataframe\">\n",
       "  <thead>\n",
       "    <tr style=\"text-align: right;\">\n",
       "      <th></th>\n",
       "      <th>Survived</th>\n",
       "      <th>Pclass</th>\n",
       "      <th>Sex</th>\n",
       "      <th>Age</th>\n",
       "      <th>SibSp</th>\n",
       "      <th>Parch</th>\n",
       "    </tr>\n",
       "  </thead>\n",
       "  <tbody>\n",
       "    <tr>\n",
       "      <th>0</th>\n",
       "      <td>0</td>\n",
       "      <td>3</td>\n",
       "      <td>male</td>\n",
       "      <td>22.0</td>\n",
       "      <td>1</td>\n",
       "      <td>0</td>\n",
       "    </tr>\n",
       "    <tr>\n",
       "      <th>1</th>\n",
       "      <td>1</td>\n",
       "      <td>1</td>\n",
       "      <td>female</td>\n",
       "      <td>38.0</td>\n",
       "      <td>1</td>\n",
       "      <td>0</td>\n",
       "    </tr>\n",
       "    <tr>\n",
       "      <th>2</th>\n",
       "      <td>1</td>\n",
       "      <td>3</td>\n",
       "      <td>female</td>\n",
       "      <td>26.0</td>\n",
       "      <td>0</td>\n",
       "      <td>0</td>\n",
       "    </tr>\n",
       "    <tr>\n",
       "      <th>3</th>\n",
       "      <td>1</td>\n",
       "      <td>1</td>\n",
       "      <td>female</td>\n",
       "      <td>35.0</td>\n",
       "      <td>1</td>\n",
       "      <td>0</td>\n",
       "    </tr>\n",
       "    <tr>\n",
       "      <th>4</th>\n",
       "      <td>0</td>\n",
       "      <td>3</td>\n",
       "      <td>male</td>\n",
       "      <td>35.0</td>\n",
       "      <td>0</td>\n",
       "      <td>0</td>\n",
       "    </tr>\n",
       "  </tbody>\n",
       "</table>\n",
       "</div>"
      ],
      "text/plain": [
       "   Survived  Pclass     Sex   Age  SibSp  Parch\n",
       "0         0       3    male  22.0      1      0\n",
       "1         1       1  female  38.0      1      0\n",
       "2         1       3  female  26.0      0      0\n",
       "3         1       1  female  35.0      1      0\n",
       "4         0       3    male  35.0      0      0"
      ]
     },
     "execution_count": 3,
     "metadata": {},
     "output_type": "execute_result"
    }
   ],
   "source": [
    "cdf=df\n",
    "cdf=cdf.drop(['PassengerId','Name','Ticket','Fare','Cabin','Embarked'], axis=1)\n",
    "cdf.head()"
   ]
  },
  {
   "cell_type": "code",
   "execution_count": 4,
   "metadata": {
    "collapsed": false
   },
   "outputs": [
    {
     "data": {
      "text/plain": [
       "True"
      ]
     },
     "execution_count": 4,
     "metadata": {},
     "output_type": "execute_result"
    }
   ],
   "source": [
    "#Checking if dataframe contains any Nan/null values. \n",
    "cdf.isnull().values.any()"
   ]
  },
  {
   "cell_type": "code",
   "execution_count": 5,
   "metadata": {
    "collapsed": false
   },
   "outputs": [
    {
     "data": {
      "text/plain": [
       "Survived      0\n",
       "Pclass        0\n",
       "Sex           0\n",
       "Age         177\n",
       "SibSp         0\n",
       "Parch         0\n",
       "dtype: int64"
      ]
     },
     "execution_count": 5,
     "metadata": {},
     "output_type": "execute_result"
    }
   ],
   "source": [
    "#Check for nan/null \n",
    "cdf.isnull().sum()"
   ]
  },
  {
   "cell_type": "markdown",
   "metadata": {},
   "source": [
    "From above result we see that Age column has 177 Nan values in it."
   ]
  },
  {
   "cell_type": "code",
   "execution_count": 6,
   "metadata": {
    "collapsed": false
   },
   "outputs": [
    {
     "name": "stdout",
     "output_type": "stream",
     "text": [
      "<class 'pandas.core.frame.DataFrame'>\n",
      "RangeIndex: 891 entries, 0 to 890\n",
      "Data columns (total 6 columns):\n",
      "Survived    891 non-null int64\n",
      "Pclass      891 non-null int64\n",
      "Sex         891 non-null object\n",
      "Age         714 non-null float64\n",
      "SibSp       891 non-null int64\n",
      "Parch       891 non-null int64\n",
      "dtypes: float64(1), int64(4), object(1)\n",
      "memory usage: 41.8+ KB\n"
     ]
    }
   ],
   "source": [
    "cdf.info()"
   ]
  },
  {
   "cell_type": "markdown",
   "metadata": {},
   "source": [
    "•\tDid Age determined the chances of survival irrespective of Class and Sex?"
   ]
  },
  {
   "cell_type": "code",
   "execution_count": 7,
   "metadata": {
    "collapsed": false
   },
   "outputs": [
    {
     "data": {
      "text/plain": [
       "Survived    0\n",
       "Pclass      0\n",
       "Sex         0\n",
       "Age         0\n",
       "SibSp       0\n",
       "Parch       0\n",
       "dtype: int64"
      ]
     },
     "execution_count": 7,
     "metadata": {},
     "output_type": "execute_result"
    }
   ],
   "source": [
    "data_age_cleaned=cdf.dropna()\n",
    "data_age_cleaned.isnull().sum()"
   ]
  },
  {
   "cell_type": "code",
   "execution_count": 8,
   "metadata": {
    "collapsed": false
   },
   "outputs": [
    {
     "name": "stdout",
     "output_type": "stream",
     "text": [
      "('Total survivors is ::', 290)\n"
     ]
    }
   ],
   "source": [
    "#Find total count of survivors and total count who died.\n",
    "#source -> http://wavedatalab.github.io/datawithpython/aggregate.html\n",
    "def find_total_survivor(data_age_cleaned):\n",
    "    Survived_df=data_age_cleaned[(data_age_cleaned['Survived'] ==1)]\n",
    "    total_survivors=Survived_df['Survived'].count()\n",
    "    return total_survivors\n",
    "\n",
    "\n",
    "total_surv=find_total_survivor(data_age_cleaned)\n",
    "print (\"Total survivors is ::\",total_surv)\n"
   ]
  },
  {
   "cell_type": "code",
   "execution_count": 9,
   "metadata": {
    "collapsed": false
   },
   "outputs": [
    {
     "name": "stdout",
     "output_type": "stream",
     "text": [
      "('Total non- survivors is ::', 424)\n"
     ]
    }
   ],
   "source": [
    "def find_total_nonSurvivor(data_age_cleaned):\n",
    "    Dead_df=data_age_cleaned[(data_age_cleaned['Survived'] ==0)]\n",
    "    total_nonsurvivors=Dead_df['Survived'].count()\n",
    "    return total_nonsurvivors\n",
    "\n",
    "tot_non_surv=find_total_nonSurvivor(data_age_cleaned)\n",
    "\n",
    "print (\"Total non- survivors is ::\",tot_non_surv)\n"
   ]
  },
  {
   "cell_type": "code",
   "execution_count": 10,
   "metadata": {
    "collapsed": false
   },
   "outputs": [
    {
     "name": "stdout",
     "output_type": "stream",
     "text": [
      "('Survivor_min_age is :: ', 0.41999999999999998)\n",
      "('Survivor_max_age is ::', 80.0)\n",
      "('NonSurvivor_min_age is :: ', 1.0)\n",
      "('NonSurvivor_max_age is :: ', 74.0)\n"
     ]
    }
   ],
   "source": [
    "#We will find minimum and maximum age of survivor and non survivor.\n",
    "survivor_min_age=data_age_cleaned[(data_age_cleaned['Survived'] ==1)]['Age'].min()\n",
    "survivor_max_age=data_age_cleaned[(data_age_cleaned['Survived'] ==1)]['Age'].max()\n",
    "nonSurvivor_min_age=data_age_cleaned[(data_age_cleaned['Survived'] ==0)]['Age'].min()\n",
    "nonSurvivor_max_age=data_age_cleaned[(data_age_cleaned['Survived'] ==0)]['Age'].max()\n",
    "\n",
    "print (\"Survivor_min_age is :: \",survivor_min_age)\n",
    "print(\"Survivor_max_age is ::\",survivor_max_age)\n",
    "print(\"NonSurvivor_min_age is :: \",nonSurvivor_min_age)\n",
    "print(\"NonSurvivor_max_age is :: \",nonSurvivor_max_age)"
   ]
  },
  {
   "cell_type": "code",
   "execution_count": 11,
   "metadata": {
    "collapsed": false
   },
   "outputs": [
    {
     "data": {
      "image/png": "[encoded data removed]",
      "text/plain": [
       "<matplotlib.figure.Figure at 0xb73dba8>"
      ]
     },
     "metadata": {},
     "output_type": "display_data"
    }
   ],
   "source": [
    "graph = sns.factorplot(x=\"Survived\",y=\"Age\",hue='Sex',data=data_age_cleaned,kind=\"box\",size=5.5,aspect=.8)\n",
    "#http://seaborn.pydata.org/generated/seaborn.factorplot.html#seaborn.factorplot\n",
    "\n"
   ]
  },
  {
   "cell_type": "markdown",
   "metadata": {},
   "source": [
    "With the help of our findings and the above represented graph, it shows that age did not determined the chances of survivial."
   ]
  },
  {
   "cell_type": "markdown",
   "metadata": {},
   "source": [
    "Did class of an individual determined the chances of survival.\n",
    "For this we will find total number of passengers in First class and out of them how many were survivors.\n",
    "\n",
    "Then total number of passengers in second class and how many were survivors.\n",
    "\n",
    "Finally total number of passengers in third class and how many were survivors."
   ]
  },
  {
   "cell_type": "code",
   "execution_count": 54,
   "metadata": {
    "collapsed": false
   },
   "outputs": [],
   "source": [
    "#gr1=sns.factorplot(x=\"Survived\",y=\"Age\",col=\"Pclass\",data=data_age_cleaned,saturation=0.5,kind=\"bar\",ci=None,aspect=0.6)"
   ]
  },
  {
   "cell_type": "code",
   "execution_count": 12,
   "metadata": {
    "collapsed": false
   },
   "outputs": [
    {
     "name": "stdout",
     "output_type": "stream",
     "text": [
      "('Total in first class', 186.0)\n",
      "('Total in second class', 173.0)\n",
      "('Total in third class', 355.0)\n"
     ]
    }
   ],
   "source": [
    "\n",
    "def totalOfClasswise(dataframe,pclass):\n",
    "    tot_class=dataframe[(dataframe['Pclass'] ==pclass)]['Pclass'].count().astype('float')\n",
    "    return tot_class\n",
    "\n",
    "fclass=totalOfClasswise(data_age_cleaned,1)\n",
    "print(\"Total in first class\",fclass)\n",
    "\n",
    "sclass=totalOfClasswise(data_age_cleaned,2)\n",
    "print(\"Total in second class\",sclass)\n",
    "\n",
    "tclass=totalOfClasswise(data_age_cleaned,3)\n",
    "print(\"Total in third class\",tclass)\n",
    "    \n",
    "\n"
   ]
  },
  {
   "cell_type": "code",
   "execution_count": 13,
   "metadata": {
    "collapsed": false
   },
   "outputs": [
    {
     "name": "stdout",
     "output_type": "stream",
     "text": [
      "('Number of firstclass_survivor', 122.0)\n",
      "('Number of secondclass_survivor', 83.0)\n",
      "('Number of thirdclass_survivor', 85.0)\n",
      "('Survivial rate of first class is ::', 65.591397849462368)\n",
      "('Survivial rate of second class is ::', 47.97687861271676)\n",
      "('Survival rate of third class is ::', 23.943661971830984)\n"
     ]
    }
   ],
   "source": [
    "\n",
    "def classwiseSurvivor(dataframe,pclass,survived):\n",
    "    classdf=dataframe[(dataframe['Pclass'] ==pclass)]\n",
    "    class_survivor=classdf[(classdf['Survived']==survived)]['Survived'].count().astype('float')\n",
    "    return class_survivor\n",
    "\n",
    "firstclass_survivor=classwiseSurvivor(data_age_cleaned,1,1)\n",
    "secondclass_survivor=classwiseSurvivor(data_age_cleaned,2,1)\n",
    "thirdclass_survivor=classwiseSurvivor(data_age_cleaned,3,1)\n",
    "\n",
    "print (\"Number of firstclass_survivor\",firstclass_survivor)\n",
    "print (\"Number of secondclass_survivor\",secondclass_survivor)\n",
    "print (\"Number of thirdclass_survivor\",thirdclass_survivor)\n",
    "\n",
    "\n",
    "def surviva_rate(survivor_class,totalInClass):\n",
    "    survival_rate=((survivor_class/totalInClass) * 100)\n",
    "    return survival_rate\n",
    "\n",
    "perc_fclass_surv=surviva_rate(firstclass_survivor,fclass)\n",
    "perc_sclass_surv=surviva_rate(secondclass_survivor,sclass)\n",
    "perc_tclass_surv=surviva_rate(thirdclass_survivor,tclass)\n",
    "    \n",
    "\n",
    "print(\"Survivial rate of first class is ::\",perc_fclass_surv)\n",
    "print(\"Survivial rate of second class is ::\",perc_sclass_surv)\n",
    "print(\"Survival rate of third class is ::\",perc_tclass_surv)\n",
    "    \n"
   ]
  },
  {
   "cell_type": "code",
   "execution_count": 14,
   "metadata": {
    "collapsed": false
   },
   "outputs": [
    {
     "name": "stdout",
     "output_type": "stream",
     "text": [
      "('class_survivor', array([122,  83,  85], dtype=int64))\n",
      "('non_class_survivor', array([ 64,  90, 270], dtype=int64))\n"
     ]
    }
   ],
   "source": [
    "classdf=data_age_cleaned[(data_age_cleaned['Survived'] ==1)]\n",
    "class_survivor=classdf.groupby(['Pclass']).size().values\n",
    "class_survivor\n",
    "print (\"class_survivor\",class_survivor)\n",
    "\n",
    "non_classdf=data_age_cleaned[(data_age_cleaned['Survived'] ==0)]\n",
    "non_class_survivor=non_classdf.groupby(['Pclass']).size().values\n",
    "non_class_survivor\n",
    "print (\"non_class_survivor\",non_class_survivor)\n",
    "\n"
   ]
  },
  {
   "cell_type": "code",
   "execution_count": 15,
   "metadata": {
    "collapsed": false
   },
   "outputs": [
    {
     "data": {
      "image/png": "[encoded data removed]",
      "text/plain": [
       "<matplotlib.figure.Figure at 0xb73d3c8>"
      ]
     },
     "metadata": {},
     "output_type": "display_data"
    }
   ],
   "source": [
    "#Since we have imported numpy and matplotlib, no need to import again.\n",
    "#http://matplotlib.org/examples/pylab_examples/bar_stacked.html\n",
    "import numpy as np\n",
    "N = 3\n",
    "ind = np.arange(N)    # the x locations for the groups\n",
    "width = 0.35       # the width of the bars: can also be len(x) sequence\n",
    "\n",
    "p1 = plt.bar(ind, class_survivor, width, color='g')\n",
    "p2 = plt.bar(ind, non_class_survivor, width, color='r',\n",
    "             bottom=class_survivor)\n",
    "\n",
    "plt.ylabel('Count')\n",
    "plt.title('Count of survivor and non survivor')\n",
    "plt.xticks(ind + width/2., ('First', 'Second', 'Third'))\n",
    "plt.legend((p1[0], p2[0]), ('Survivor', 'Nonsurvivor'))\n",
    "plt.show()"
   ]
  },
  {
   "cell_type": "markdown",
   "metadata": {},
   "source": [
    "From the graph above it is clear that socio economic factor- class impacted the chances of survival.It clearly indicates that passengers travelling in First class had a higher survival rate than second and third class. Also second class passengers had a better survival rate when compared with third class passengers."
   ]
  },
  {
   "cell_type": "markdown",
   "metadata": {},
   "source": [
    "Now we will see how many males and females survived out of the total survived."
   ]
  },
  {
   "cell_type": "code",
   "execution_count": 16,
   "metadata": {
    "collapsed": false
   },
   "outputs": [
    {
     "data": {
      "image/png": "[encoded data removed]",
      "text/plain": [
       "<matplotlib.figure.Figure at 0xb9474e0>"
      ]
     },
     "metadata": {},
     "output_type": "display_data"
    }
   ],
   "source": [
    "#Class_survivial_graph = sns.factorplot(\"Survived\", col=\"Sex\", col_wrap=4,data=data_age_cleaned,kind=\"count\", size=2.5, aspect=.8)\n",
    "g=sns.factorplot(x=\"Sex\", y=\"Survived\", col=\"Pclass\",data=data_age_cleaned, saturation=0.5,kind=\"bar\", ci=None, aspect=.6)\n",
    "\n",
    "\n"
   ]
  },
  {
   "cell_type": "markdown",
   "metadata": {
    "collapsed": true
   },
   "source": [
    "From the above graph we can see that Female had a better chance of survival than male in first, second and third class passengers."
   ]
  },
  {
   "cell_type": "markdown",
   "metadata": {},
   "source": [
    "Conclusion"
   ]
  },
  {
   "cell_type": "markdown",
   "metadata": {},
   "source": [
    "From above analysis it is clear that socio economic factor impacted the chances of survival. Passengers from first class had a higher survival rate followed by second class and then third class. Amongst the survivors female had better chance of survival than male."
   ]
  },
  {
   "cell_type": "code",
   "execution_count": null,
   "metadata": {
    "collapsed": true
   },
   "outputs": [],
   "source": []
  }
 ],
 "metadata": {
  "anaconda-cloud": {},
  "kernelspec": {
   "display_name": "Python [py2]",
   "language": "python",
   "name": "Python [py2]"
  },
  "language_info": {
   "codemirror_mode": {
    "name": "ipython",
    "version": 2
   },
   "file_extension": ".py",
   "mimetype": "text/x-python",
   "name": "python",
   "nbconvert_exporter": "python",
   "pygments_lexer": "ipython2",
   "version": "2.7.12"
  }
 },
 "nbformat": 4,
 "nbformat_minor": 0
}
